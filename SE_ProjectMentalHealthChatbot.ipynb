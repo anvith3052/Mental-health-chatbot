{
  "nbformat": 4,
  "nbformat_minor": 0,
  "metadata": {
    "colab": {
      "provenance": []
    },
    "kernelspec": {
      "name": "python3",
      "display_name": "Python 3"
    },
    "language_info": {
      "name": "python"
    }
  },
  "cells": [
    {
      "cell_type": "markdown",
      "source": [
        "\n",
        "\n",
        "# Installations\n"
      ],
      "metadata": {
        "id": "QVL2sL4EZ2R3"
      }
    },
    {
      "cell_type": "code",
      "source": [
        "!pip install langchain"
      ],
      "metadata": {
        "colab": {
          "base_uri": "https://localhost:8080/"
        },
        "id": "4_5V09yETlmJ",
        "outputId": "67c90f4a-9742-42f4-d06e-183ff7791dd3"
      },
      "execution_count": null,
      "outputs": [
        {
          "output_type": "stream",
          "name": "stdout",
          "text": [
            "Collecting langchain\n",
            "  Downloading langchain-0.1.20-py3-none-any.whl (1.0 MB)\n",
            "\u001b[2K     \u001b[90m━━━━━━━━━━━━━━━━━━━━━━━━━━━━━━━━━━━━━━━━\u001b[0m \u001b[32m1.0/1.0 MB\u001b[0m \u001b[31m5.6 MB/s\u001b[0m eta \u001b[36m0:00:00\u001b[0m\n",
            "\u001b[?25hRequirement already satisfied: PyYAML>=5.3 in /usr/local/lib/python3.10/dist-packages (from langchain) (6.0.1)\n",
            "Requirement already satisfied: SQLAlchemy<3,>=1.4 in /usr/local/lib/python3.10/dist-packages (from langchain) (2.0.30)\n",
            "Requirement already satisfied: aiohttp<4.0.0,>=3.8.3 in /usr/local/lib/python3.10/dist-packages (from langchain) (3.9.5)\n",
            "Requirement already satisfied: async-timeout<5.0.0,>=4.0.0 in /usr/local/lib/python3.10/dist-packages (from langchain) (4.0.3)\n",
            "Collecting dataclasses-json<0.7,>=0.5.7 (from langchain)\n",
            "  Downloading dataclasses_json-0.6.6-py3-none-any.whl (28 kB)\n",
            "Collecting langchain-community<0.1,>=0.0.38 (from langchain)\n",
            "  Downloading langchain_community-0.0.38-py3-none-any.whl (2.0 MB)\n",
            "\u001b[2K     \u001b[90m━━━━━━━━━━━━━━━━━━━━━━━━━━━━━━━━━━━━━━━━\u001b[0m \u001b[32m2.0/2.0 MB\u001b[0m \u001b[31m12.5 MB/s\u001b[0m eta \u001b[36m0:00:00\u001b[0m\n",
            "\u001b[?25hCollecting langchain-core<0.2.0,>=0.1.52 (from langchain)\n",
            "  Downloading langchain_core-0.1.52-py3-none-any.whl (302 kB)\n",
            "\u001b[2K     \u001b[90m━━━━━━━━━━━━━━━━━━━━━━━━━━━━━━━━━━━━━━━━\u001b[0m \u001b[32m302.9/302.9 kB\u001b[0m \u001b[31m12.6 MB/s\u001b[0m eta \u001b[36m0:00:00\u001b[0m\n",
            "\u001b[?25hCollecting langchain-text-splitters<0.1,>=0.0.1 (from langchain)\n",
            "  Downloading langchain_text_splitters-0.0.2-py3-none-any.whl (23 kB)\n",
            "Collecting langsmith<0.2.0,>=0.1.17 (from langchain)\n",
            "  Downloading langsmith-0.1.59-py3-none-any.whl (121 kB)\n",
            "\u001b[2K     \u001b[90m━━━━━━━━━━━━━━━━━━━━━━━━━━━━━━━━━━━━━━━━\u001b[0m \u001b[32m121.2/121.2 kB\u001b[0m \u001b[31m9.2 MB/s\u001b[0m eta \u001b[36m0:00:00\u001b[0m\n",
            "\u001b[?25hRequirement already satisfied: numpy<2,>=1 in /usr/local/lib/python3.10/dist-packages (from langchain) (1.25.2)\n",
            "Requirement already satisfied: pydantic<3,>=1 in /usr/local/lib/python3.10/dist-packages (from langchain) (2.7.1)\n",
            "Requirement already satisfied: requests<3,>=2 in /usr/local/lib/python3.10/dist-packages (from langchain) (2.31.0)\n",
            "Requirement already satisfied: tenacity<9.0.0,>=8.1.0 in /usr/local/lib/python3.10/dist-packages (from langchain) (8.3.0)\n",
            "Requirement already satisfied: aiosignal>=1.1.2 in /usr/local/lib/python3.10/dist-packages (from aiohttp<4.0.0,>=3.8.3->langchain) (1.3.1)\n",
            "Requirement already satisfied: attrs>=17.3.0 in /usr/local/lib/python3.10/dist-packages (from aiohttp<4.0.0,>=3.8.3->langchain) (23.2.0)\n",
            "Requirement already satisfied: frozenlist>=1.1.1 in /usr/local/lib/python3.10/dist-packages (from aiohttp<4.0.0,>=3.8.3->langchain) (1.4.1)\n",
            "Requirement already satisfied: multidict<7.0,>=4.5 in /usr/local/lib/python3.10/dist-packages (from aiohttp<4.0.0,>=3.8.3->langchain) (6.0.5)\n",
            "Requirement already satisfied: yarl<2.0,>=1.0 in /usr/local/lib/python3.10/dist-packages (from aiohttp<4.0.0,>=3.8.3->langchain) (1.9.4)\n",
            "Collecting marshmallow<4.0.0,>=3.18.0 (from dataclasses-json<0.7,>=0.5.7->langchain)\n",
            "  Downloading marshmallow-3.21.2-py3-none-any.whl (49 kB)\n",
            "\u001b[2K     \u001b[90m━━━━━━━━━━━━━━━━━━━━━━━━━━━━━━━━━━━━━━━━\u001b[0m \u001b[32m49.3/49.3 kB\u001b[0m \u001b[31m3.5 MB/s\u001b[0m eta \u001b[36m0:00:00\u001b[0m\n",
            "\u001b[?25hCollecting typing-inspect<1,>=0.4.0 (from dataclasses-json<0.7,>=0.5.7->langchain)\n",
            "  Downloading typing_inspect-0.9.0-py3-none-any.whl (8.8 kB)\n",
            "Collecting jsonpatch<2.0,>=1.33 (from langchain-core<0.2.0,>=0.1.52->langchain)\n",
            "  Downloading jsonpatch-1.33-py2.py3-none-any.whl (12 kB)\n",
            "Collecting packaging<24.0,>=23.2 (from langchain-core<0.2.0,>=0.1.52->langchain)\n",
            "  Downloading packaging-23.2-py3-none-any.whl (53 kB)\n",
            "\u001b[2K     \u001b[90m━━━━━━━━━━━━━━━━━━━━━━━━━━━━━━━━━━━━━━━━\u001b[0m \u001b[32m53.0/53.0 kB\u001b[0m \u001b[31m4.9 MB/s\u001b[0m eta \u001b[36m0:00:00\u001b[0m\n",
            "\u001b[?25hCollecting orjson<4.0.0,>=3.9.14 (from langsmith<0.2.0,>=0.1.17->langchain)\n",
            "  Downloading orjson-3.10.3-cp310-cp310-manylinux_2_17_x86_64.manylinux2014_x86_64.whl (142 kB)\n",
            "\u001b[2K     \u001b[90m━━━━━━━━━━━━━━━━━━━━━━━━━━━━━━━━━━━━━━━━\u001b[0m \u001b[32m142.5/142.5 kB\u001b[0m \u001b[31m2.5 MB/s\u001b[0m eta \u001b[36m0:00:00\u001b[0m\n",
            "\u001b[?25hRequirement already satisfied: annotated-types>=0.4.0 in /usr/local/lib/python3.10/dist-packages (from pydantic<3,>=1->langchain) (0.6.0)\n",
            "Requirement already satisfied: pydantic-core==2.18.2 in /usr/local/lib/python3.10/dist-packages (from pydantic<3,>=1->langchain) (2.18.2)\n",
            "Requirement already satisfied: typing-extensions>=4.6.1 in /usr/local/lib/python3.10/dist-packages (from pydantic<3,>=1->langchain) (4.11.0)\n",
            "Requirement already satisfied: charset-normalizer<4,>=2 in /usr/local/lib/python3.10/dist-packages (from requests<3,>=2->langchain) (3.3.2)\n",
            "Requirement already satisfied: idna<4,>=2.5 in /usr/local/lib/python3.10/dist-packages (from requests<3,>=2->langchain) (3.7)\n",
            "Requirement already satisfied: urllib3<3,>=1.21.1 in /usr/local/lib/python3.10/dist-packages (from requests<3,>=2->langchain) (2.0.7)\n",
            "Requirement already satisfied: certifi>=2017.4.17 in /usr/local/lib/python3.10/dist-packages (from requests<3,>=2->langchain) (2024.2.2)\n",
            "Requirement already satisfied: greenlet!=0.4.17 in /usr/local/lib/python3.10/dist-packages (from SQLAlchemy<3,>=1.4->langchain) (3.0.3)\n",
            "Collecting jsonpointer>=1.9 (from jsonpatch<2.0,>=1.33->langchain-core<0.2.0,>=0.1.52->langchain)\n",
            "  Downloading jsonpointer-2.4-py2.py3-none-any.whl (7.8 kB)\n",
            "Collecting mypy-extensions>=0.3.0 (from typing-inspect<1,>=0.4.0->dataclasses-json<0.7,>=0.5.7->langchain)\n",
            "  Downloading mypy_extensions-1.0.0-py3-none-any.whl (4.7 kB)\n",
            "Installing collected packages: packaging, orjson, mypy-extensions, jsonpointer, typing-inspect, marshmallow, jsonpatch, langsmith, dataclasses-json, langchain-core, langchain-text-splitters, langchain-community, langchain\n",
            "  Attempting uninstall: packaging\n",
            "    Found existing installation: packaging 24.0\n",
            "    Uninstalling packaging-24.0:\n",
            "      Successfully uninstalled packaging-24.0\n",
            "Successfully installed dataclasses-json-0.6.6 jsonpatch-1.33 jsonpointer-2.4 langchain-0.1.20 langchain-community-0.0.38 langchain-core-0.1.52 langchain-text-splitters-0.0.2 langsmith-0.1.59 marshmallow-3.21.2 mypy-extensions-1.0.0 orjson-3.10.3 packaging-23.2 typing-inspect-0.9.0\n"
          ]
        }
      ]
    },
    {
      "cell_type": "code",
      "execution_count": null,
      "metadata": {
        "id": "7PEZMPyVTeYe"
      },
      "outputs": [],
      "source": [
        "from langchain.llms import OpenAI"
      ]
    },
    {
      "cell_type": "code",
      "source": [
        "import os\n",
        "os.environ[\"OPEN_API_KEY\"]='sk-proj-G7M2Kmd9UMbPD2sEzHRDT3BlbkFJ1NHOOQQSqV63O1YjH9qK'"
      ],
      "metadata": {
        "id": "ctN2DfW9Tghw"
      },
      "execution_count": null,
      "outputs": []
    },
    {
      "cell_type": "code",
      "source": [
        "pip install openai==0.28"
      ],
      "metadata": {
        "colab": {
          "base_uri": "https://localhost:8080/"
        },
        "id": "fBvlFv_gUGy0",
        "outputId": "ae88698c-6daa-4629-af3b-7ba7aee752d0"
      },
      "execution_count": null,
      "outputs": [
        {
          "output_type": "stream",
          "name": "stdout",
          "text": [
            "Collecting openai==0.28\n",
            "  Downloading openai-0.28.0-py3-none-any.whl (76 kB)\n",
            "\u001b[?25l     \u001b[90m━━━━━━━━━━━━━━━━━━━━━━━━━━━━━━━━━━━━━━━━\u001b[0m \u001b[32m0.0/76.5 kB\u001b[0m \u001b[31m?\u001b[0m eta \u001b[36m-:--:--\u001b[0m\r\u001b[2K     \u001b[90m━━━━━━━━━━━━━━━━━━━━━━━━━━━━━━━━━━━━━━━━\u001b[0m \u001b[32m76.5/76.5 kB\u001b[0m \u001b[31m2.2 MB/s\u001b[0m eta \u001b[36m0:00:00\u001b[0m\n",
            "\u001b[?25hRequirement already satisfied: requests>=2.20 in /usr/local/lib/python3.10/dist-packages (from openai==0.28) (2.31.0)\n",
            "Requirement already satisfied: tqdm in /usr/local/lib/python3.10/dist-packages (from openai==0.28) (4.66.4)\n",
            "Requirement already satisfied: aiohttp in /usr/local/lib/python3.10/dist-packages (from openai==0.28) (3.9.5)\n",
            "Requirement already satisfied: charset-normalizer<4,>=2 in /usr/local/lib/python3.10/dist-packages (from requests>=2.20->openai==0.28) (3.3.2)\n",
            "Requirement already satisfied: idna<4,>=2.5 in /usr/local/lib/python3.10/dist-packages (from requests>=2.20->openai==0.28) (3.7)\n",
            "Requirement already satisfied: urllib3<3,>=1.21.1 in /usr/local/lib/python3.10/dist-packages (from requests>=2.20->openai==0.28) (2.0.7)\n",
            "Requirement already satisfied: certifi>=2017.4.17 in /usr/local/lib/python3.10/dist-packages (from requests>=2.20->openai==0.28) (2024.2.2)\n",
            "Requirement already satisfied: aiosignal>=1.1.2 in /usr/local/lib/python3.10/dist-packages (from aiohttp->openai==0.28) (1.3.1)\n",
            "Requirement already satisfied: attrs>=17.3.0 in /usr/local/lib/python3.10/dist-packages (from aiohttp->openai==0.28) (23.2.0)\n",
            "Requirement already satisfied: frozenlist>=1.1.1 in /usr/local/lib/python3.10/dist-packages (from aiohttp->openai==0.28) (1.4.1)\n",
            "Requirement already satisfied: multidict<7.0,>=4.5 in /usr/local/lib/python3.10/dist-packages (from aiohttp->openai==0.28) (6.0.5)\n",
            "Requirement already satisfied: yarl<2.0,>=1.0 in /usr/local/lib/python3.10/dist-packages (from aiohttp->openai==0.28) (1.9.4)\n",
            "Requirement already satisfied: async-timeout<5.0,>=4.0 in /usr/local/lib/python3.10/dist-packages (from aiohttp->openai==0.28) (4.0.3)\n",
            "Installing collected packages: openai\n",
            "Successfully installed openai-0.28.0\n"
          ]
        }
      ]
    },
    {
      "cell_type": "code",
      "source": [
        "llm=OpenAI(openai_api_key=os.environ[\"OPEN_API_KEY\"])"
      ],
      "metadata": {
        "id": "HKLXaaMZTjEr",
        "colab": {
          "base_uri": "https://localhost:8080/"
        },
        "outputId": "a360b816-fb3f-46dc-c0b2-8b0db2fd10bf"
      },
      "execution_count": null,
      "outputs": [
        {
          "output_type": "stream",
          "name": "stderr",
          "text": [
            "/usr/local/lib/python3.10/dist-packages/langchain_core/_api/deprecation.py:119: LangChainDeprecationWarning: The class `OpenAI` was deprecated in LangChain 0.0.10 and will be removed in 0.3.0. An updated version of the class exists in the langchain-openai package and should be used instead. To use it run `pip install -U langchain-openai` and import as `from langchain_openai import OpenAI`.\n",
            "  warn_deprecated(\n"
          ]
        }
      ]
    },
    {
      "cell_type": "code",
      "source": [
        "import openai"
      ],
      "metadata": {
        "id": "MUVVe1vybAd1"
      },
      "execution_count": null,
      "outputs": []
    },
    {
      "cell_type": "code",
      "source": [
        "import random"
      ],
      "metadata": {
        "id": "qrOI4DK3aSlm"
      },
      "execution_count": null,
      "outputs": []
    },
    {
      "cell_type": "markdown",
      "source": [
        "# API KEY"
      ],
      "metadata": {
        "id": "4-lkj2xNZ7tg"
      }
    },
    {
      "cell_type": "code",
      "source": [
        "openai.api_key =\"sk-proj-6MJfPIj5KDBPBxzCuxBBT3BlbkFJmL198mgSzQLxuVh1yB3y\" # enter your OpenAI key"
      ],
      "metadata": {
        "id": "Gm47X66_bJCO"
      },
      "execution_count": null,
      "outputs": []
    },
    {
      "cell_type": "markdown",
      "source": [
        "# Questions to know the mood of User"
      ],
      "metadata": {
        "id": "J_MUb6-oFWnS"
      }
    },
    {
      "cell_type": "code",
      "source": [
        "# Define a list of questions related to mental health\n",
        "mental_health_questions = [ \"How are you feeling today?\",\n",
        "                           \"How are you feeling lately?\",\n",
        "                            \"How was your day?\",\n",
        "]"
      ],
      "metadata": {
        "id": "gmvwBp4ITp56"
      },
      "execution_count": null,
      "outputs": []
    },
    {
      "cell_type": "markdown",
      "source": [
        "# Interact with the user to know the mood"
      ],
      "metadata": {
        "id": "1Ta0QxseFiUm"
      }
    },
    {
      "cell_type": "code",
      "source": [
        "# Generate a random question for the user\n",
        "user_question = random.choice(mental_health_questions)\n",
        "print(\" Hi, this is Mood Craft: A Responsive Mental Health Chatbot!\\nBot: \" + user_question)\n",
        "# Take user input for the question\n",
        "user_response = input(\"User: \")"
      ],
      "metadata": {
        "colab": {
          "base_uri": "https://localhost:8080/"
        },
        "id": "F8YFL8BZaQHI",
        "outputId": "81024b20-b8a3-4cc0-ff1f-6c72f66ff753"
      },
      "execution_count": null,
      "outputs": [
        {
          "name": "stdout",
          "output_type": "stream",
          "text": [
            " Hi, this is Mood Craft: A Responsive Mental Health Chatbot!\n",
            "Bot: How are you feeling lately?\n",
            "User: Happy\n"
          ]
        }
      ]
    },
    {
      "cell_type": "markdown",
      "source": [
        "# Generetae more questions based on the Users mood\n"
      ],
      "metadata": {
        "id": "ApMP6K7Y-FHU"
      }
    },
    {
      "cell_type": "code",
      "source": [
        "def generate_questions(feeling):\n",
        "    # Generate questions based on the user's feeling\n",
        "    prompt = f\"Act as a psychological doctor and ask some questions to know why he/she is feeling '{feeling}' :\\n\"\n",
        "    return prompt"
      ],
      "metadata": {
        "id": "jxHkQMFK-Vy3"
      },
      "execution_count": null,
      "outputs": []
    },
    {
      "cell_type": "code",
      "source": [
        "gpt_response = openai.Completion.create(\n",
        "       engine=\"gpt-3.5-turbo-instruct\",\n",
        "        prompt=  generate_questions(user_response),\n",
        "        max_tokens=500,\n",
        "        n=1,\n",
        "        stop=None,\n",
        "        temperature=0.3\n",
        ")\n",
        "\n",
        "print(\"\\nFollow-up questions based on user's response:\")\n",
        "print(gpt_response)"
      ],
      "metadata": {
        "colab": {
          "base_uri": "https://localhost:8080/"
        },
        "id": "k5ozikz6extu",
        "outputId": "126cf4c5-5688-4ac7-e176-ee5790af55ec"
      },
      "execution_count": null,
      "outputs": [
        {
          "output_type": "stream",
          "name": "stdout",
          "text": [
            "\n",
            "Follow-up questions based on user's response:\n",
            "{\n",
            "  \"id\": \"cmpl-9PuxE987JFW7CrwX6tpew5HcFjCwk\",\n",
            "  \"object\": \"text_completion\",\n",
            "  \"created\": 1715964160,\n",
            "  \"model\": \"gpt-3.5-turbo-instruct\",\n",
            "  \"choices\": [\n",
            "    {\n",
            "      \"text\": \"\\n1. What is making you feel happy right now?\\n2. Can you tell me about any recent events or experiences that have contributed to your happiness?\\n3. How long have you been feeling happy?\\n4. Is this a new or familiar feeling for you?\\n5. Have you noticed any changes in your mood or behavior since feeling happy?\\n6. Are there any specific thoughts or beliefs that are contributing to your happiness?\\n7. Are there any external factors, such as relationships or work, that may be influencing your happiness?\\n8. How would you describe the intensity of your happiness on a scale of 1-10?\\n9. Do you feel like your happiness is sustainable or temporary?\\n10. Are there any concerns or worries that may be conflicting with your happiness?\",\n",
            "      \"index\": 0,\n",
            "      \"logprobs\": null,\n",
            "      \"finish_reason\": \"stop\"\n",
            "    }\n",
            "  ],\n",
            "  \"usage\": {\n",
            "    \"prompt_tokens\": 20,\n",
            "    \"completion_tokens\": 155,\n",
            "    \"total_tokens\": 175\n",
            "  }\n",
            "}\n"
          ]
        }
      ]
    },
    {
      "cell_type": "code",
      "source": [
        "# Extracting text from choices\n",
        "choices_texts = [choice[\"text\"] for choice in gpt_response[\"choices\"]]\n",
        "Questions=choices_texts[0]\n",
        "Questions"
      ],
      "metadata": {
        "colab": {
          "base_uri": "https://localhost:8080/",
          "height": 107
        },
        "id": "DoMq0zP9exwy",
        "outputId": "a2970f55-a958-490f-ebd4-a35d32be7310"
      },
      "execution_count": null,
      "outputs": [
        {
          "output_type": "execute_result",
          "data": {
            "text/plain": [
              "'\\n1. What is making you feel happy right now?\\n2. Can you tell me about any recent events or experiences that have contributed to your happiness?\\n3. How long have you been feeling happy?\\n4. Is this a new or familiar feeling for you?\\n5. Have you noticed any changes in your mood or behavior since feeling happy?\\n6. Are there any specific thoughts or beliefs that are contributing to your happiness?\\n7. Are there any external factors, such as relationships or work, that may be influencing your happiness?\\n8. How would you describe the intensity of your happiness on a scale of 1-10?\\n9. Do you feel like your happiness is sustainable or temporary?\\n10. Are there any concerns or worries that may be conflicting with your happiness?'"
            ],
            "application/vnd.google.colaboratory.intrinsic+json": {
              "type": "string"
            }
          },
          "metadata": {},
          "execution_count": 29
        }
      ]
    },
    {
      "cell_type": "code",
      "source": [
        "List_Ques=Questions[:len(Questions)].split(\"\\n\")"
      ],
      "metadata": {
        "id": "vEZMJbB7rhXq"
      },
      "execution_count": null,
      "outputs": []
    },
    {
      "cell_type": "code",
      "source": [
        "List_Ques"
      ],
      "metadata": {
        "colab": {
          "base_uri": "https://localhost:8080/"
        },
        "id": "TKPQXW0Zl0hm",
        "outputId": "8a3e05a6-c797-4cf7-af23-e667397cc6a1"
      },
      "execution_count": null,
      "outputs": [
        {
          "output_type": "execute_result",
          "data": {
            "text/plain": [
              "['',\n",
              " '1. What is making you feel happy right now?',\n",
              " '2. Can you tell me about any recent events or experiences that have contributed to your happiness?',\n",
              " '3. How long have you been feeling happy?',\n",
              " '4. Is this a new or familiar feeling for you?',\n",
              " '5. Have you noticed any changes in your mood or behavior since feeling happy?',\n",
              " '6. Are there any specific thoughts or beliefs that are contributing to your happiness?',\n",
              " '7. Are there any external factors, such as relationships or work, that may be influencing your happiness?',\n",
              " '8. How would you describe the intensity of your happiness on a scale of 1-10?',\n",
              " '9. Do you feel like your happiness is sustainable or temporary?',\n",
              " '10. Are there any concerns or worries that may be conflicting with your happiness?']"
            ]
          },
          "metadata": {},
          "execution_count": 31
        }
      ]
    },
    {
      "cell_type": "markdown",
      "source": [
        "### Extract all the questions generated from the users feeling"
      ],
      "metadata": {
        "id": "WoE367veF-ZW"
      }
    },
    {
      "cell_type": "code",
      "source": [
        "# Extract questions ending with a question mark '?'\n",
        "List_Ques2 = [question.strip() for question in List_Ques if question.endswith('?') or question.endswith('? ')]\n",
        "\n",
        "# Print the extracted questions\n",
        "for question in List_Ques2:\n",
        "    print(question)"
      ],
      "metadata": {
        "colab": {
          "base_uri": "https://localhost:8080/"
        },
        "id": "NeVdVpf4xdVT",
        "outputId": "cbb8d6e5-fd05-4781-e332-a8038046c378"
      },
      "execution_count": null,
      "outputs": [
        {
          "output_type": "stream",
          "name": "stdout",
          "text": [
            "1. Can you tell me more about what specifically is making you feel bad?\n",
            "2. How long have you been feeling this way?\n",
            "3. Have there been any recent events or changes in your life that may have contributed to your current feelings?\n",
            "4. How would you describe your overall mood and energy level?\n",
            "5. Have you noticed any physical symptoms accompanying your feelings of badness?\n",
            "6. Are there any specific thoughts or worries that are constantly on your mind?\n",
            "7. How are your relationships with friends and family currently?\n",
            "8. Have you experienced similar feelings in the past?\n",
            "9. How have you been coping with these feelings so far?\n",
            "10. Is there anything that typically helps you feel better when you're feeling bad?\n"
          ]
        }
      ]
    },
    {
      "cell_type": "code",
      "source": [],
      "metadata": {
        "id": "JnRomnxAG7kE"
      },
      "execution_count": null,
      "outputs": []
    },
    {
      "cell_type": "markdown",
      "source": [
        "# Chatbot\n"
      ],
      "metadata": {
        "id": "XNKRj4TIycUL"
      }
    },
    {
      "cell_type": "code",
      "source": [],
      "metadata": {
        "id": "tBulgvHQlVAb"
      },
      "execution_count": null,
      "outputs": []
    },
    {
      "cell_type": "code",
      "source": [
        "# Initialize a dictionary to store the personal information and answers\n",
        "report_data = {}"
      ],
      "metadata": {
        "id": "tyErjT13ye5c"
      },
      "execution_count": null,
      "outputs": []
    },
    {
      "cell_type": "code",
      "source": [
        "# Function to prompt user for personal information\n",
        "def get_personal_info():\n",
        "    print(\"Please provide the following personal information:\")\n",
        "    report_data[\"Name\"] = input(\"Name: \")\n",
        "    report_data[\"Age\"] = input(\"Age: \")\n",
        "    report_data[\"Gender\"] = input(\"Gender: \")\n",
        "    report_data[\"Contact Information\"] = input(\"Contact Information: \")\n",
        "\n",
        "    # Initialize a list to store the questions and answers\n",
        "    question_answers = []\n",
        "\n",
        "    # Iterate through the list of questions\n",
        "    for question in List_Ques2:\n",
        "        # Ask the question to the user\n",
        "        user_answer = input(question + \" \")\n",
        "        # Store the question and user's answer in the list\n",
        "        question_answers.append((question, user_answer))\n",
        "    return question_answers,report_data[\"Name\"],report_data[\"Age\"] , report_data[\"Gender\"]\n"
      ],
      "metadata": {
        "id": "z5uFcnIKybtY"
      },
      "execution_count": null,
      "outputs": []
    },
    {
      "cell_type": "code",
      "source": [
        "# Call the function to collect personal information and generate questions\n",
        "question_answers,Name,Age,Gender = get_personal_info()"
      ],
      "metadata": {
        "id": "a1oMfNxRzleT",
        "colab": {
          "base_uri": "https://localhost:8080/"
        },
        "outputId": "b73d5ec3-c3c2-4f39-84b7-23989e958732"
      },
      "execution_count": null,
      "outputs": [
        {
          "name": "stdout",
          "output_type": "stream",
          "text": [
            "Please provide the following personal information:\n",
            "Name: Bhavya\n",
            "Age: 21\n",
            "Gender: Female\n",
            "Contact Information: 12345678\n",
            "1. Can you tell me more about what specifically is making you feel bad? I failed in my exam\n",
            "2. How long have you been feeling this way? Only today\n",
            "3. Have there been any recent events or changes in your life that may have contributed to your current feelings? Yes my examination\n",
            "4. How would you describe your overall mood and energy level? very low\n",
            "5. Have you noticed any physical symptoms accompanying your feelings of badness? headache\n",
            "6. Are there any specific thoughts or worries that are constantly on your mind? feeling to run away somewhere\n",
            "7. How are your relationships with friends and family currently? good\n",
            "8. Have you experienced similar feelings in the past? no\n",
            "9. How have you been coping with these feelings so far? This is first time\n",
            "10. Is there anything that typically helps you feel better when you're feeling bad? listening to songs or movies\n"
          ]
        }
      ]
    },
    {
      "cell_type": "markdown",
      "source": [
        "# History of Chatbot"
      ],
      "metadata": {
        "id": "2GvyDuNtyruP"
      }
    },
    {
      "cell_type": "code",
      "source": [
        "for i in range(len(question_answers)):\n",
        "  question_answers[i] = ('Doctor: ' + question_answers[i][0], 'Patient: ' + question_answers[i][1])\n",
        "question_answers"
      ],
      "metadata": {
        "colab": {
          "base_uri": "https://localhost:8080/"
        },
        "id": "xxJChFBuIT5D",
        "outputId": "5a107585-de48-484a-9680-75e7aa9ca450"
      },
      "execution_count": null,
      "outputs": [
        {
          "output_type": "execute_result",
          "data": {
            "text/plain": [
              "[('Doctor: 1. Can you tell me more about what specifically is making you feel bad?',\n",
              "  'Patient: I failed in my exam'),\n",
              " ('Doctor: 2. How long have you been feeling this way?',\n",
              "  'Patient: Only today'),\n",
              " ('Doctor: 3. Have there been any recent events or changes in your life that may have contributed to your current feelings?',\n",
              "  'Patient: Yes my examination'),\n",
              " ('Doctor: 4. How would you describe your overall mood and energy level?',\n",
              "  'Patient: very low'),\n",
              " ('Doctor: 5. Have you noticed any physical symptoms accompanying your feelings of badness?',\n",
              "  'Patient: headache'),\n",
              " ('Doctor: 6. Are there any specific thoughts or worries that are constantly on your mind?',\n",
              "  'Patient: feeling to run away somewhere'),\n",
              " ('Doctor: 7. How are your relationships with friends and family currently?',\n",
              "  'Patient: good'),\n",
              " ('Doctor: 8. Have you experienced similar feelings in the past?',\n",
              "  'Patient: no'),\n",
              " ('Doctor: 9. How have you been coping with these feelings so far?',\n",
              "  'Patient: This is first time'),\n",
              " (\"Doctor: 10. Is there anything that typically helps you feel better when you're feeling bad?\",\n",
              "  'Patient: listening to songs or movies')]"
            ]
          },
          "metadata": {},
          "execution_count": 20
        }
      ]
    },
    {
      "cell_type": "markdown",
      "source": [
        "# Report"
      ],
      "metadata": {
        "id": "9CCSCFqQzKLn"
      }
    },
    {
      "cell_type": "code",
      "source": [
        "import openai\n",
        "# Combine questions and answers into a single string\n",
        "conversation_text = '\\n'.join([q + '\\n' + a for q, a in question_answers])\n",
        "print(conversation_text )"
      ],
      "metadata": {
        "id": "OULcfvw0zMvk",
        "colab": {
          "base_uri": "https://localhost:8080/"
        },
        "outputId": "238656a4-de39-4ec6-cb6b-2eff1f2831e7"
      },
      "execution_count": null,
      "outputs": [
        {
          "output_type": "stream",
          "name": "stdout",
          "text": [
            "Doctor: 1. Can you tell me more about what specifically is making you feel bad?\n",
            "Patient: I failed in my exam\n",
            "Doctor: 2. How long have you been feeling this way?\n",
            "Patient: Only today\n",
            "Doctor: 3. Have there been any recent events or changes in your life that may have contributed to your current feelings?\n",
            "Patient: Yes my examination\n",
            "Doctor: 4. How would you describe your overall mood and energy level?\n",
            "Patient: very low\n",
            "Doctor: 5. Have you noticed any physical symptoms accompanying your feelings of badness?\n",
            "Patient: headache\n",
            "Doctor: 6. Are there any specific thoughts or worries that are constantly on your mind?\n",
            "Patient: feeling to run away somewhere\n",
            "Doctor: 7. How are your relationships with friends and family currently?\n",
            "Patient: good\n",
            "Doctor: 8. Have you experienced similar feelings in the past?\n",
            "Patient: no\n",
            "Doctor: 9. How have you been coping with these feelings so far?\n",
            "Patient: This is first time\n",
            "Doctor: 10. Is there anything that typically helps you feel better when you're feeling bad?\n",
            "Patient: listening to songs or movies\n"
          ]
        }
      ]
    },
    {
      "cell_type": "code",
      "source": [
        "p1=f\"The persons details are {Name},{Age} , {Gender}\\n\"\n",
        "report_prompt=p1+conversation_text+\"\\n\"+\"Act as an psychologist and suggest the patient some strategies that can help manage the persons mental health status and how to cure their mental health based on the above conversations and understand what could be the reasons to their mental health concerns..Analyze the conversation between a patient and a psychologist to assess the patient's mental health. \\n\""
      ],
      "metadata": {
        "id": "eOoHLDQZVcEu"
      },
      "execution_count": null,
      "outputs": []
    },
    {
      "cell_type": "code",
      "source": [
        "# Use OpenAI API to generate continuation of conversation\n",
        "response = openai.Completion.create(\n",
        "    engine= \"gpt-3.5-turbo-instruct\",\n",
        "    prompt= report_prompt,\n",
        "    max_tokens=200,\n",
        "        n=1,\n",
        "        stop=None,\n",
        "        temperature=0.5\n",
        ")"
      ],
      "metadata": {
        "id": "WKMj1FMmATzW"
      },
      "execution_count": null,
      "outputs": []
    },
    {
      "cell_type": "code",
      "source": [
        "# Print the generated continuation\n",
        "report=(response.choices[0].text)\n",
        "print(report)"
      ],
      "metadata": {
        "colab": {
          "base_uri": "https://localhost:8080/"
        },
        "id": "9Vx--TrGMkyp",
        "outputId": "ba9bb6bc-73aa-4375-a921-9466acf19684"
      },
      "execution_count": null,
      "outputs": [
        {
          "output_type": "stream",
          "name": "stdout",
          "text": [
            "\n",
            "Based on the conversation, it is clear that the patient, Bhavya, is experiencing a low mood and energy level due to failing an exam. This could be a trigger for feelings of anxiety and wanting to escape, as well as physical symptoms such as a headache. Bhavya has a good support system in terms of relationships with friends and family, but this is her first time experiencing these feelings and she is unsure of how to cope.\n",
            "\n",
            "As a psychologist, I would first validate Bhavya's feelings and acknowledge the difficulty of failing an exam. I would then suggest some strategies to help manage her mental health and cope with the current situation. These may include:\n",
            "\n",
            "1. Practice relaxation techniques: Encourage Bhavya to try deep breathing, meditation, or progressive muscle relaxation to help reduce her physical symptoms and promote a sense of calmness.\n",
            "\n",
            "2. Engage in physical activity: Regular exercise can help improve mood and energy levels. Suggest Bhavya to take a walk or do\n"
          ]
        }
      ]
    },
    {
      "cell_type": "code",
      "source": [
        "# Split the report into sentences\n",
        "sentences = report.split('\\n')\n",
        "sentences2=set(sentences)\n",
        "sentences"
      ],
      "metadata": {
        "colab": {
          "base_uri": "https://localhost:8080/"
        },
        "id": "XkFCa8WGNBKf",
        "outputId": "d7a81377-7f4b-4162-e2b4-c2f78f5abf21"
      },
      "execution_count": null,
      "outputs": [
        {
          "output_type": "execute_result",
          "data": {
            "text/plain": [
              "['',\n",
              " 'Based on the conversation, it is clear that the patient, Bhavya, is experiencing a low mood and energy level due to failing an exam. This could be a trigger for feelings of anxiety and wanting to escape, as well as physical symptoms such as a headache. Bhavya has a good support system in terms of relationships with friends and family, but this is her first time experiencing these feelings and she is unsure of how to cope.',\n",
              " '',\n",
              " \"As a psychologist, I would first validate Bhavya's feelings and acknowledge the difficulty of failing an exam. I would then suggest some strategies to help manage her mental health and cope with the current situation. These may include:\",\n",
              " '',\n",
              " '1. Practice relaxation techniques: Encourage Bhavya to try deep breathing, meditation, or progressive muscle relaxation to help reduce her physical symptoms and promote a sense of calmness.',\n",
              " '',\n",
              " '2. Engage in physical activity: Regular exercise can help improve mood and energy levels. Suggest Bhavya to take a walk or do']"
            ]
          },
          "metadata": {},
          "execution_count": 25
        }
      ]
    },
    {
      "cell_type": "code",
      "source": [],
      "metadata": {
        "id": "xEGT5Aj7OCAn"
      },
      "execution_count": null,
      "outputs": []
    },
    {
      "cell_type": "code",
      "source": [
        "# Add sentences to a list only if they end with a period\n",
        "report_final = [sentence.strip() + '.' for sentence in sentences if sentence.strip()]\n",
        "# Convert the list to a set to remove duplicates\n",
        "report_final = set(report_final)\n"
      ],
      "metadata": {
        "id": "1zYpMv5SNlRK"
      },
      "execution_count": null,
      "outputs": []
    },
    {
      "cell_type": "code",
      "source": [
        "print(report_final)"
      ],
      "metadata": {
        "colab": {
          "base_uri": "https://localhost:8080/"
        },
        "id": "R4cC38c5EzcD",
        "outputId": "afc155c1-c9e5-4a72-cd43-a3ac653be578"
      },
      "execution_count": null,
      "outputs": [
        {
          "output_type": "stream",
          "name": "stdout",
          "text": [
            "{'Based on the conversation, the patient seems to have a generally positive outlook and is able to maintain a high level of happiness despite facing challenges and stressors. However, it is important to note that the patient has also experienced negative emotions in the past and has coping strategies in place to manage them. This could indicate that the patient may have a history of mental health concerns, such as anxiety or depression..', 'Furthermore, it would be helpful for the patient to continue pursuing their hobbies and goals, as these activities bring a sense of fulfillment.', \"To manage and improve the patient's mental health, it is recommended to continue practicing gratitude and self-care, as these have been effective strategies for the patient. Additionally, incorporating mindfulness techniques, such as deep breathing and meditation, can help the patient cope with any negative emotions or stressors that may arise..\", 'It may also be beneficial for the patient to explore their relationships and how they contribute to their happiness. Building and maintaining healthy relationships can have a positive impact on mental health..'}\n"
          ]
        }
      ]
    },
    {
      "cell_type": "markdown",
      "source": [
        "### Final Report"
      ],
      "metadata": {
        "id": "-pJpAI-lOzuk"
      }
    },
    {
      "cell_type": "code",
      "source": [
        "for sentence in report_final:\n",
        "    print(sentence+\"\\n\")"
      ],
      "metadata": {
        "colab": {
          "base_uri": "https://localhost:8080/"
        },
        "id": "Me4QpKSDOrd0",
        "outputId": "a65d3a75-d014-4268-8621-2e524dd79f2d"
      },
      "execution_count": null,
      "outputs": [
        {
          "output_type": "stream",
          "name": "stdout",
          "text": [
            "Based on the conversation, the patient seems to have a generally positive outlook and is able to maintain a high level of happiness despite facing challenges and stressors. However, it is important to note that the patient has also experienced negative emotions in the past and has coping strategies in place to manage them. This could indicate that the patient may have a history of mental health concerns, such as anxiety or depression..\n",
            "\n",
            "Furthermore, it would be helpful for the patient to continue pursuing their hobbies and goals, as these activities bring a sense of fulfillment.\n",
            "\n",
            "To manage and improve the patient's mental health, it is recommended to continue practicing gratitude and self-care, as these have been effective strategies for the patient. Additionally, incorporating mindfulness techniques, such as deep breathing and meditation, can help the patient cope with any negative emotions or stressors that may arise..\n",
            "\n",
            "It may also be beneficial for the patient to explore their relationships and how they contribute to their happiness. Building and maintaining healthy relationships can have a positive impact on mental health..\n",
            "\n"
          ]
        }
      ]
    },
    {
      "cell_type": "code",
      "source": [],
      "metadata": {
        "id": "b4ty0vHpOzRo"
      },
      "execution_count": null,
      "outputs": []
    },
    {
      "cell_type": "code",
      "source": [
        "# Analyze the conversation between a patient and a psychologist to assess the patient's mental health.\",\n",
        "# Examine the dialogue between a counselor and a client to evaluate the client's psychological condition.\"\n",
        "# \"Provide an analysis of a mental health assessment conducted by a professional therapist.\"\n",
        "# Review a case study of a therapy session and offer interpretations of the patient's underlying psychological issues.\\n\" -- okay  but not sure\n"
      ],
      "metadata": {
        "id": "IWJDXjtqBJjE"
      },
      "execution_count": null,
      "outputs": []
    },
    {
      "cell_type": "code",
      "source": [],
      "metadata": {
        "id": "VlcWoLTDorne"
      },
      "execution_count": null,
      "outputs": []
    }
  ]
}