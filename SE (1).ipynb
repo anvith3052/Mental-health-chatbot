{
 "cells": [
  {
   "cell_type": "markdown",
   "id": "58f8bc9f",
   "metadata": {},
   "source": [
    "# MoodCraft: A Responsive Mental Health Chatbot with Emotion Recognition for Personalized Support and Crisis Intervention\n"
   ]
  },
  {
   "cell_type": "code",
   "execution_count": 1,
   "id": "c7e5b03d",
   "metadata": {},
   "outputs": [],
   "source": [
    "import os, sys, random, time, datetime, re\n",
    "import numpy as np\n",
    "import pandas as pd\n",
    "import matplotlib.pyplot as plt \n",
    "import torch\n",
    "from torch import nn\n",
    "from torch.utils.data import Dataset, DataLoader\n",
    "from torch.nn.utils.rnn import pad_sequence\n",
    "from sklearn.utils.class_weight import compute_class_weight\n",
    "from sklearn.metrics import classification_report\n",
    "from sklearn.metrics import ConfusionMatrixDisplay\n",
    "from sklearn.metrics import f1_score"
   ]
  },
  {
   "cell_type": "code",
   "execution_count": 2,
   "id": "0846b5a6",
   "metadata": {},
   "outputs": [],
   "source": [
    "import nltk\n",
    "from nltk.corpus import stopwords\n",
    "from nltk.stem import WordNetLemmatizer"
   ]
  },
  {
   "cell_type": "markdown",
   "id": "c786f624",
   "metadata": {},
   "source": [
    "# Read Dataset"
   ]
  },
  {
   "cell_type": "code",
   "execution_count": 3,
   "id": "bf43e68e",
   "metadata": {},
   "outputs": [],
   "source": [
    "def read_txt(filepath: str) -> pd.DataFrame:\n",
    "    df = pd.read_csv(filepath, sep=';', header=None, names=['sentence', 'label'])\n",
    "    df['label'] = df['label'].astype('category').cat.codes\n",
    "    return df\n",
    "\n",
    "train_df = read_txt('train.txt')\n",
    "valid_df = read_txt('val.txt')\n",
    "test_df  = read_txt('test.txt')\n",
    "\n",
    "label_names = ['anger', 'fear', 'joy', 'love', 'sadness', 'surprise']\n",
    "\n",
    "class_weights = compute_class_weight(class_weight=\"balanced\", classes=np.unique(train_df['label']),  y=train_df['label'])"
   ]
  },
  {
   "cell_type": "markdown",
   "id": "5b057dfb",
   "metadata": {},
   "source": [
    "train set\n",
    "\n"
   ]
  },
  {
   "cell_type": "code",
   "execution_count": 7,
   "id": "d87beeb0",
   "metadata": {},
   "outputs": [
    {
     "data": {
      "text/html": [
       "<div>\n",
       "<style scoped>\n",
       "    .dataframe tbody tr th:only-of-type {\n",
       "        vertical-align: middle;\n",
       "    }\n",
       "\n",
       "    .dataframe tbody tr th {\n",
       "        vertical-align: top;\n",
       "    }\n",
       "\n",
       "    .dataframe thead th {\n",
       "        text-align: right;\n",
       "    }\n",
       "</style>\n",
       "<table border=\"1\" class=\"dataframe\">\n",
       "  <thead>\n",
       "    <tr style=\"text-align: right;\">\n",
       "      <th></th>\n",
       "      <th>sentence</th>\n",
       "      <th>label</th>\n",
       "    </tr>\n",
       "  </thead>\n",
       "  <tbody>\n",
       "    <tr>\n",
       "      <th>0</th>\n",
       "      <td>i didnt feel humiliated</td>\n",
       "      <td>4</td>\n",
       "    </tr>\n",
       "    <tr>\n",
       "      <th>1</th>\n",
       "      <td>i can go from feeling so hopeless to so damned...</td>\n",
       "      <td>4</td>\n",
       "    </tr>\n",
       "    <tr>\n",
       "      <th>2</th>\n",
       "      <td>im grabbing a minute to post i feel greedy wrong</td>\n",
       "      <td>0</td>\n",
       "    </tr>\n",
       "    <tr>\n",
       "      <th>3</th>\n",
       "      <td>i am ever feeling nostalgic about the fireplac...</td>\n",
       "      <td>3</td>\n",
       "    </tr>\n",
       "    <tr>\n",
       "      <th>4</th>\n",
       "      <td>i am feeling grouchy</td>\n",
       "      <td>0</td>\n",
       "    </tr>\n",
       "  </tbody>\n",
       "</table>\n",
       "</div>"
      ],
      "text/plain": [
       "                                            sentence  label\n",
       "0                            i didnt feel humiliated      4\n",
       "1  i can go from feeling so hopeless to so damned...      4\n",
       "2   im grabbing a minute to post i feel greedy wrong      0\n",
       "3  i am ever feeling nostalgic about the fireplac...      3\n",
       "4                               i am feeling grouchy      0"
      ]
     },
     "metadata": {},
     "output_type": "display_data"
    },
    {
     "name": "stdout",
     "output_type": "stream",
     "text": [
      "train_df.shape=(16000, 2)\n"
     ]
    },
    {
     "data": {
      "text/plain": [
       "<BarContainer object of 6 artists>"
      ]
     },
     "execution_count": 7,
     "metadata": {},
     "output_type": "execute_result"
    },
    {
     "data": {
      "image/png": "[encoded data removed]",
      "text/plain": [
       "<Figure size 432x288 with 1 Axes>"
      ]
     },
     "metadata": {
      "needs_background": "light"
     },
     "output_type": "display_data"
    }
   ],
   "source": [
    "display(train_df.head(5))\n",
    "print(f'{train_df.shape=}')\n",
    "plt.bar(x=label_names, height=np.bincount(train_df['label']))"
   ]
  },
  {
   "cell_type": "markdown",
   "id": "281a16c7",
   "metadata": {},
   "source": [
    "validation set"
   ]
  },
  {
   "cell_type": "code",
   "execution_count": 8,
   "id": "de714913",
   "metadata": {},
   "outputs": [
    {
     "data": {
      "text/html": [
       "<div>\n",
       "<style scoped>\n",
       "    .dataframe tbody tr th:only-of-type {\n",
       "        vertical-align: middle;\n",
       "    }\n",
       "\n",
       "    .dataframe tbody tr th {\n",
       "        vertical-align: top;\n",
       "    }\n",
       "\n",
       "    .dataframe thead th {\n",
       "        text-align: right;\n",
       "    }\n",
       "</style>\n",
       "<table border=\"1\" class=\"dataframe\">\n",
       "  <thead>\n",
       "    <tr style=\"text-align: right;\">\n",
       "      <th></th>\n",
       "      <th>sentence</th>\n",
       "      <th>label</th>\n",
       "    </tr>\n",
       "  </thead>\n",
       "  <tbody>\n",
       "    <tr>\n",
       "      <th>0</th>\n",
       "      <td>im feeling quite sad and sorry for myself but ...</td>\n",
       "      <td>4</td>\n",
       "    </tr>\n",
       "    <tr>\n",
       "      <th>1</th>\n",
       "      <td>i feel like i am still looking at a blank canv...</td>\n",
       "      <td>4</td>\n",
       "    </tr>\n",
       "    <tr>\n",
       "      <th>2</th>\n",
       "      <td>i feel like a faithful servant</td>\n",
       "      <td>3</td>\n",
       "    </tr>\n",
       "    <tr>\n",
       "      <th>3</th>\n",
       "      <td>i am just feeling cranky and blue</td>\n",
       "      <td>0</td>\n",
       "    </tr>\n",
       "    <tr>\n",
       "      <th>4</th>\n",
       "      <td>i can have for a treat or if i am feeling festive</td>\n",
       "      <td>2</td>\n",
       "    </tr>\n",
       "  </tbody>\n",
       "</table>\n",
       "</div>"
      ],
      "text/plain": [
       "                                            sentence  label\n",
       "0  im feeling quite sad and sorry for myself but ...      4\n",
       "1  i feel like i am still looking at a blank canv...      4\n",
       "2                     i feel like a faithful servant      3\n",
       "3                  i am just feeling cranky and blue      0\n",
       "4  i can have for a treat or if i am feeling festive      2"
      ]
     },
     "metadata": {},
     "output_type": "display_data"
    },
    {
     "name": "stdout",
     "output_type": "stream",
     "text": [
      "valid_df.shape=(2000, 2)\n"
     ]
    },
    {
     "data": {
      "text/plain": [
       "<BarContainer object of 6 artists>"
      ]
     },
     "execution_count": 8,
     "metadata": {},
     "output_type": "execute_result"
    },
    {
     "data": {
      "image/png": "[encoded data removed]",
      "text/plain": [
       "<Figure size 432x288 with 1 Axes>"
      ]
     },
     "metadata": {
      "needs_background": "light"
     },
     "output_type": "display_data"
    }
   ],
   "source": [
    "display(valid_df.head(5))\n",
    "print(f\"{valid_df.shape=}\")\n",
    "plt.bar(x=label_names, height=np.bincount(valid_df['label']))"
   ]
  },
  {
   "cell_type": "markdown",
   "id": "de415d9d",
   "metadata": {},
   "source": [
    "test set"
   ]
  },
  {
   "cell_type": "code",
   "execution_count": 9,
   "id": "5031ed7f",
   "metadata": {},
   "outputs": [
    {
     "data": {
      "text/html": [
       "<div>\n",
       "<style scoped>\n",
       "    .dataframe tbody tr th:only-of-type {\n",
       "        vertical-align: middle;\n",
       "    }\n",
       "\n",
       "    .dataframe tbody tr th {\n",
       "        vertical-align: top;\n",
       "    }\n",
       "\n",
       "    .dataframe thead th {\n",
       "        text-align: right;\n",
       "    }\n",
       "</style>\n",
       "<table border=\"1\" class=\"dataframe\">\n",
       "  <thead>\n",
       "    <tr style=\"text-align: right;\">\n",
       "      <th></th>\n",
       "      <th>sentence</th>\n",
       "      <th>label</th>\n",
       "    </tr>\n",
       "  </thead>\n",
       "  <tbody>\n",
       "    <tr>\n",
       "      <th>0</th>\n",
       "      <td>im feeling rather rotten so im not very ambiti...</td>\n",
       "      <td>4</td>\n",
       "    </tr>\n",
       "    <tr>\n",
       "      <th>1</th>\n",
       "      <td>im updating my blog because i feel shitty</td>\n",
       "      <td>4</td>\n",
       "    </tr>\n",
       "    <tr>\n",
       "      <th>2</th>\n",
       "      <td>i never make her separate from me because i do...</td>\n",
       "      <td>4</td>\n",
       "    </tr>\n",
       "    <tr>\n",
       "      <th>3</th>\n",
       "      <td>i left with my bouquet of red and yellow tulip...</td>\n",
       "      <td>2</td>\n",
       "    </tr>\n",
       "    <tr>\n",
       "      <th>4</th>\n",
       "      <td>i was feeling a little vain when i did this one</td>\n",
       "      <td>4</td>\n",
       "    </tr>\n",
       "  </tbody>\n",
       "</table>\n",
       "</div>"
      ],
      "text/plain": [
       "                                            sentence  label\n",
       "0  im feeling rather rotten so im not very ambiti...      4\n",
       "1          im updating my blog because i feel shitty      4\n",
       "2  i never make her separate from me because i do...      4\n",
       "3  i left with my bouquet of red and yellow tulip...      2\n",
       "4    i was feeling a little vain when i did this one      4"
      ]
     },
     "metadata": {},
     "output_type": "display_data"
    },
    {
     "name": "stdout",
     "output_type": "stream",
     "text": [
      "test_df.shape=(2000, 2)\n"
     ]
    },
    {
     "data": {
      "text/plain": [
       "<BarContainer object of 6 artists>"
      ]
     },
     "execution_count": 9,
     "metadata": {},
     "output_type": "execute_result"
    },
    {
     "data": {
      "image/png": "[encoded data removed]",
      "text/plain": [
       "<Figure size 432x288 with 1 Axes>"
      ]
     },
     "metadata": {
      "needs_background": "light"
     },
     "output_type": "display_data"
    }
   ],
   "source": [
    "display(test_df.head(5))\n",
    "print(f'{test_df.shape=}')\n",
    "plt.bar(x=label_names, height=np.bincount(test_df['label']))"
   ]
  },
  {
   "cell_type": "markdown",
   "id": "229a1d29",
   "metadata": {},
   "source": [
    "# Preprocess text\n"
   ]
  },
  {
   "cell_type": "code",
   "execution_count": 10,
   "id": "5c48a648",
   "metadata": {},
   "outputs": [],
   "source": [
    "def clean_lemmatize_tokenize(text: str) -> list[str]:\n",
    "      \n",
    "    REPLACE_BY_SPACE_RE = re.compile('[/(){}\\[\\]\\|@,;]')    # add/remove regex as required\n",
    "    BAD_SYMBOLS_RE = re.compile('[^0-9a-z #+_]')\n",
    "    NUMBERS = re.compile('\\d+')\n",
    "    STOPWORDS = set(stopwords.words('english'))\n",
    "    lemmatizer = WordNetLemmatizer()\n",
    "\n",
    "    # clean\n",
    "    text = text.lower()\n",
    "    text = REPLACE_BY_SPACE_RE.sub(' ', text)\n",
    "    text = BAD_SYMBOLS_RE.sub('', text)\n",
    "    text = NUMBERS.sub('', text)\n",
    "\n",
    "    # remove stopwords and lemmatize\n",
    "    tokens = [word for word in text.split() if word not in STOPWORDS]\n",
    "    tokens = [lemmatizer.lemmatize(token) for token in tokens]\n",
    "        \n",
    "    return tokens\n",
    "    \n",
    "train_df['tokenized'] = train_df['sentence'].apply(clean_lemmatize_tokenize)\n",
    "valid_df['tokenized'] = valid_df['sentence'].apply(clean_lemmatize_tokenize)\n",
    "test_df['tokenized']  =  test_df['sentence'].apply(clean_lemmatize_tokenize)"
   ]
  },
  {
   "cell_type": "code",
   "execution_count": 11,
   "id": "2963d237",
   "metadata": {},
   "outputs": [
    {
     "data": {
      "text/html": [
       "<div>\n",
       "<style scoped>\n",
       "    .dataframe tbody tr th:only-of-type {\n",
       "        vertical-align: middle;\n",
       "    }\n",
       "\n",
       "    .dataframe tbody tr th {\n",
       "        vertical-align: top;\n",
       "    }\n",
       "\n",
       "    .dataframe thead th {\n",
       "        text-align: right;\n",
       "    }\n",
       "</style>\n",
       "<table border=\"1\" class=\"dataframe\">\n",
       "  <thead>\n",
       "    <tr style=\"text-align: right;\">\n",
       "      <th></th>\n",
       "      <th>sentence</th>\n",
       "      <th>label</th>\n",
       "      <th>tokenized</th>\n",
       "    </tr>\n",
       "  </thead>\n",
       "  <tbody>\n",
       "    <tr>\n",
       "      <th>0</th>\n",
       "      <td>i didnt feel humiliated</td>\n",
       "      <td>4</td>\n",
       "      <td>[didnt, feel, humiliated]</td>\n",
       "    </tr>\n",
       "    <tr>\n",
       "      <th>1</th>\n",
       "      <td>i can go from feeling so hopeless to so damned...</td>\n",
       "      <td>4</td>\n",
       "      <td>[go, feeling, hopeless, damned, hopeful, aroun...</td>\n",
       "    </tr>\n",
       "    <tr>\n",
       "      <th>2</th>\n",
       "      <td>im grabbing a minute to post i feel greedy wrong</td>\n",
       "      <td>0</td>\n",
       "      <td>[im, grabbing, minute, post, feel, greedy, wrong]</td>\n",
       "    </tr>\n",
       "    <tr>\n",
       "      <th>3</th>\n",
       "      <td>i am ever feeling nostalgic about the fireplac...</td>\n",
       "      <td>3</td>\n",
       "      <td>[ever, feeling, nostalgic, fireplace, know, st...</td>\n",
       "    </tr>\n",
       "    <tr>\n",
       "      <th>4</th>\n",
       "      <td>i am feeling grouchy</td>\n",
       "      <td>0</td>\n",
       "      <td>[feeling, grouchy]</td>\n",
       "    </tr>\n",
       "    <tr>\n",
       "      <th>...</th>\n",
       "      <td>...</td>\n",
       "      <td>...</td>\n",
       "      <td>...</td>\n",
       "    </tr>\n",
       "    <tr>\n",
       "      <th>15995</th>\n",
       "      <td>i just had a very brief time in the beanbag an...</td>\n",
       "      <td>4</td>\n",
       "      <td>[brief, time, beanbag, said, anna, feel, like,...</td>\n",
       "    </tr>\n",
       "    <tr>\n",
       "      <th>15996</th>\n",
       "      <td>i am now turning and i feel pathetic that i am...</td>\n",
       "      <td>4</td>\n",
       "      <td>[turning, feel, pathetic, still, waiting, tabl...</td>\n",
       "    </tr>\n",
       "    <tr>\n",
       "      <th>15997</th>\n",
       "      <td>i feel strong and good overall</td>\n",
       "      <td>2</td>\n",
       "      <td>[feel, strong, good, overall]</td>\n",
       "    </tr>\n",
       "    <tr>\n",
       "      <th>15998</th>\n",
       "      <td>i feel like this was such a rude comment and i...</td>\n",
       "      <td>0</td>\n",
       "      <td>[feel, like, rude, comment, im, glad]</td>\n",
       "    </tr>\n",
       "    <tr>\n",
       "      <th>15999</th>\n",
       "      <td>i know a lot but i feel so stupid because i ca...</td>\n",
       "      <td>4</td>\n",
       "      <td>[know, lot, feel, stupid, portray]</td>\n",
       "    </tr>\n",
       "  </tbody>\n",
       "</table>\n",
       "<p>16000 rows × 3 columns</p>\n",
       "</div>"
      ],
      "text/plain": [
       "                                                sentence  label  \\\n",
       "0                                i didnt feel humiliated      4   \n",
       "1      i can go from feeling so hopeless to so damned...      4   \n",
       "2       im grabbing a minute to post i feel greedy wrong      0   \n",
       "3      i am ever feeling nostalgic about the fireplac...      3   \n",
       "4                                   i am feeling grouchy      0   \n",
       "...                                                  ...    ...   \n",
       "15995  i just had a very brief time in the beanbag an...      4   \n",
       "15996  i am now turning and i feel pathetic that i am...      4   \n",
       "15997                     i feel strong and good overall      2   \n",
       "15998  i feel like this was such a rude comment and i...      0   \n",
       "15999  i know a lot but i feel so stupid because i ca...      4   \n",
       "\n",
       "                                               tokenized  \n",
       "0                              [didnt, feel, humiliated]  \n",
       "1      [go, feeling, hopeless, damned, hopeful, aroun...  \n",
       "2      [im, grabbing, minute, post, feel, greedy, wrong]  \n",
       "3      [ever, feeling, nostalgic, fireplace, know, st...  \n",
       "4                                     [feeling, grouchy]  \n",
       "...                                                  ...  \n",
       "15995  [brief, time, beanbag, said, anna, feel, like,...  \n",
       "15996  [turning, feel, pathetic, still, waiting, tabl...  \n",
       "15997                      [feel, strong, good, overall]  \n",
       "15998              [feel, like, rude, comment, im, glad]  \n",
       "15999                 [know, lot, feel, stupid, portray]  \n",
       "\n",
       "[16000 rows x 3 columns]"
      ]
     },
     "execution_count": 11,
     "metadata": {},
     "output_type": "execute_result"
    }
   ],
   "source": [
    "train_df"
   ]
  },
  {
   "cell_type": "code",
   "execution_count": 12,
   "id": "59670855",
   "metadata": {},
   "outputs": [
    {
     "name": "stdout",
     "output_type": "stream",
     "text": [
      "len(vocab)=3814\n"
     ]
    }
   ],
   "source": [
    "def make_vocabulary_from_tokens(\n",
    "    tokenized_sentences: pd.Series, \n",
    "    min_doc_freq: int = 1,\n",
    "    max_doc_freq: int = 1_000_000\n",
    ") -> dict[str: int]:\n",
    "     \n",
    "    # Count frequency of each token in dataset\n",
    "    document_freq = {}\n",
    "    for tokenized_sentence in tokenized_sentences:\n",
    "        for token in tokenized_sentence:\n",
    "            document_freq[token] = document_freq.get(token, 0) + 1\n",
    "    \n",
    "    # Discard tokens with freq < min_doc_freq\n",
    "    qualified_tokens = {\n",
    "        token: freq for token, freq in document_freq.items() if (min_doc_freq < freq < max_doc_freq)\n",
    "    }\n",
    "    \n",
    "    # Add in token_ids for each token\n",
    "    vocab = {token: token_id+2 for token_id, token in enumerate(qualified_tokens.keys())}\n",
    "    \n",
    "    # Add special tokens\n",
    "    vocab['[PAD]'] = 0\n",
    "    vocab['[UNK]'] = 1\n",
    "    \n",
    "    return vocab, qualified_tokens\n",
    "\n",
    "vocab, doc_freq = make_vocabulary_from_tokens(train_df['tokenized'], 3)    # use only train set for this\n",
    "print(f'{len(vocab)=}')"
   ]
  },
  {
   "cell_type": "code",
   "execution_count": 13,
   "id": "63d15a70",
   "metadata": {},
   "outputs": [],
   "source": [
    "def tokens_to_input_ids(tokenized_sentence: list[str], vocabulary=vocab) -> torch.tensor:\n",
    "    input_ids = [\n",
    "        vocabulary.get(token, 1) for token in tokenized_sentence\n",
    "    ]\n",
    "    return input_ids\n",
    "\n",
    "X_train, y_train = train_df['tokenized'].apply(tokens_to_input_ids), train_df['label'].to_list()\n",
    "X_valid, y_valid = valid_df['tokenized'].apply(tokens_to_input_ids), valid_df['label'].to_list()\n",
    "X_test,  y_test  =  test_df['tokenized'].apply(tokens_to_input_ids),  test_df['label'].to_list()"
   ]
  },
  {
   "cell_type": "markdown",
   "id": "4835680a",
   "metadata": {},
   "source": [
    "# Model"
   ]
  },
  {
   "cell_type": "code",
   "execution_count": 42,
   "id": "03cd2faf",
   "metadata": {},
   "outputs": [],
   "source": [
    "# Hyper parameters etc.\n",
    "class CFG:\n",
    "    n_epochs = 50\n",
    "    learning_rate = 1.0e-3\n",
    "    batch_size = 64\n",
    "    batches_per_epoch = len(X_train) // batch_size\n",
    "    label_names = [name[:3] for name in label_names]   # first few letters only for plots etc\n",
    "    \n",
    "\n",
    "class LSTMClassifier(nn.Module):\n",
    "    \n",
    "    def __init__(self):\n",
    "        # Model parameters\n",
    "        vocab_size = len(vocab)\n",
    "        n_labels = len(label_names)\n",
    "        embedding_dim = 256\n",
    "        hidden_dim = 128\n",
    "        dropout_rate = 0.25\n",
    "        lstm_dropout_rate = 0.2,\n",
    "        num_lstm_layers = 1\n",
    "\n",
    "        # Model\n",
    "        super().__init__()\n",
    "        self.n_layers = num_lstm_layers\n",
    "        self.hidden_dim = hidden_dim\n",
    "        self.embedding = nn.Embedding(vocab_size, embedding_dim)\n",
    "        self.lstm = nn.LSTM(\n",
    "            embedding_dim, hidden_dim, num_layers=num_lstm_layers,\n",
    "            batch_first=True\n",
    "        )\n",
    "        self.dropout = nn.Dropout(dropout_rate)\n",
    "        self.fc = nn.Linear(hidden_dim, n_labels)\n",
    "    \n",
    "    def forward(self, X_batch):\n",
    "        embedding = self.dropout(self.embedding(X_batch))\n",
    "        hidden, carry = (\n",
    "            torch.randn(self.n_layers, len(X_batch), self.hidden_dim), \n",
    "            torch.randn(self.n_layers, len(X_batch), self.hidden_dim),\n",
    "        )\n",
    "        output, (hidden, carry) = self.lstm(embedding, (hidden, carry))\n",
    "        return self.fc(self.dropout(output[:,-1]))"
   ]
  },
  {
   "cell_type": "code",
   "execution_count": 43,
   "id": "c599c7cc",
   "metadata": {},
   "outputs": [],
   "source": [
    "model = LSTMClassifier()\n",
    "loss_fn = nn.CrossEntropyLoss(weight=torch.tensor(class_weights))   # adding class weights because unbalanced train set\n",
    "optimizer = torch.optim.Adam(model.parameters(), lr=CFG.learning_rate)\n",
    "\n",
    "def weighted_f1(y_true, y_pred):\n",
    "    return f1_score(y_true.argmax(1), y_pred.argmax(1), average='weighted')"
   ]
  },
  {
   "cell_type": "code",
   "execution_count": 44,
   "id": "30399595",
   "metadata": {},
   "outputs": [],
   "source": [
    "class TextDataset(Dataset):\n",
    "    def __init__(self, input_ids: list[list[int]], labels: list[int]):\n",
    "        self.input_ids = pad_sequence([torch.tensor(sequence) for sequence in input_ids], batch_first=True)\n",
    "        self.labels = nn.functional.one_hot(torch.tensor(labels)).to(torch.float)\n",
    "        \n",
    "    def __len__(self):\n",
    "        return len(self.labels)\n",
    "    \n",
    "    def __getitem__(self, idx):\n",
    "        return [self.input_ids[idx], self.labels[idx]]\n",
    "    \n",
    "def collate_fn(batch):\n",
    "    pass"
   ]
  },
  {
   "cell_type": "markdown",
   "id": "0bb3c631",
   "metadata": {},
   "source": [
    "# Train and Validate Model"
   ]
  },
  {
   "cell_type": "code",
   "execution_count": 45,
   "id": "177a0d93",
   "metadata": {},
   "outputs": [],
   "source": [
    "def train_model(\n",
    "    X_train, y_train,\n",
    "    X_valid, y_valid,\n",
    "    model, optimizer, metric, loss_fn, collate_fn, CFG,\n",
    "):\n",
    "    timestamp = datetime.datetime.now().strftime('%Y%m%d_%H%M%S')\n",
    "    train_loss  = []; valid_loss  = []\n",
    "    train_score = []; valid_score = []\n",
    "    \n",
    "    train_loader  = DataLoader(\n",
    "        TextDataset(X_train, y_train), \n",
    "        batch_size=CFG.batch_size, collate_fn=collate_fn, shuffle=True\n",
    "    )\n",
    "    valid_loader  = DataLoader(\n",
    "        TextDataset(X_valid, y_valid),\n",
    "        batch_size=CFG.batch_size, collate_fn=collate_fn, shuffle=False\n",
    "    )\n",
    "    \n",
    "    best_vloss = 1_000_000\n",
    "    \n",
    "    for epoch in range(CFG.n_epochs):\n",
    "        \n",
    "        # Train step\n",
    "        model.train(True)\n",
    "        running_loss = 0\n",
    "        running_score = 0\n",
    "        \n",
    "        for i, data in enumerate(train_loader):\n",
    "            inputs, labels = data\n",
    "\n",
    "            optimizer.zero_grad()\n",
    "            outputs = model(inputs)\n",
    "            loss = loss_fn(outputs, labels)\n",
    "            loss.backward()\n",
    "            optimizer.step()\n",
    "            \n",
    "            # compute metrics and store\n",
    "            score = metric(labels, outputs)\n",
    "            running_score += score\n",
    "            running_loss += loss.item()\n",
    "            \n",
    "        train_score.append(avg_score := float(score / (i + 1)))\n",
    "        train_loss.append(avg_loss := float(loss / (i + 1)))\n",
    "        # TODO: find way to make these numbers bigger for plotting    \n",
    "            \n",
    "        # Validate\n",
    "        model.eval()\n",
    "        running_vloss = 0\n",
    "        running_vscore = 0\n",
    "        with torch.no_grad():\n",
    "            for i, vdata in enumerate(valid_loader):\n",
    "                vinputs, vlabels = vdata\n",
    "                voutputs = model(vinputs)\n",
    "                vloss = loss_fn(voutputs, vlabels)\n",
    "                \n",
    "                vscore = metric(vlabels, voutputs)\n",
    "                running_vscore += vscore\n",
    "                running_vloss += vloss\n",
    "                \n",
    "        valid_score.append(avg_vscore := float(running_vscore / (i + 1)))\n",
    "        valid_loss.append(avg_vloss := float(running_vloss / (i + 1)))\n",
    "        \n",
    "        \n",
    "        # Track best performance and save model's state\n",
    "        if avg_vloss < best_vloss:\n",
    "            best_vloss = avg_vloss\n",
    "            model_path = 'model_{}_{}'.format(timestamp, epoch)\n",
    "            torch.save(model.state_dict(), model_path)\n",
    "            \n",
    "        print(f'Epoch {epoch}: loss = {avg_loss} score = {avg_score} | vloss = {avg_vloss} vscore = {avg_vscore}')\n",
    "                \n",
    "            \n",
    "    # Plot loss and metric\n",
    "    fig,(ax1, ax2) = plt.subplots(1, 2)\n",
    "            \n",
    "    ax1.set_xlabel('epoch'); ax1.set_ylabel('loss'); ax1.set_title('training loss')\n",
    "    ax1.plot(np.arange(len(train_loss)), train_loss, label='training')\n",
    "    ax1.plot(np.arange(len(valid_loss)), valid_loss, label='validation')\n",
    "    ax1.legend()\n",
    "    \n",
    "    ax2.set_xlabel('epoch'); ax2.set_ylabel('score'); ax2.set_title('training score')\n",
    "    ax2.plot(np.arange(len(train_score)), train_score, label='training')\n",
    "    ax2.plot(np.arange(len(valid_score)), valid_score, label='validation')\n",
    "    ax2.legend()\n",
    "    "
   ]
  },
  {
   "cell_type": "code",
   "execution_count": 46,
   "id": "01c01731",
   "metadata": {
    "scrolled": false
   },
   "outputs": [
    {
     "name": "stdout",
     "output_type": "stream",
     "text": [
      "Epoch 0: loss = 0.007655714895966458 score = 0.0006020327085830517 | vloss = 1.828724231667646 vscore = 0.005486358002009394\n",
      "Epoch 1: loss = 0.005959783641298939 score = 0.0014891098484848485 | vloss = 1.8290408650740435 vscore = 0.12050233415030033\n",
      "Epoch 2: loss = 0.0070599220942746625 score = 1.923076923076923e-06 | vloss = 1.8281283304179303 vscore = 0.004548858002009394\n",
      "Epoch 3: loss = 0.006590365162942845 score = 0.0006953828828828828 | vloss = 1.8295557392476227 vscore = 0.004548858002009394\n",
      "Epoch 4: loss = 0.008072231069554753 score = 0.0008148427134011499 | vloss = 1.8299973059175743 vscore = 0.12165575848639416\n",
      "Epoch 5: loss = 0.007687672110526221 score = 7.405462184873949e-05 | vloss = 1.829867936347903 vscore = 0.023529956543753672\n",
      "Epoch 6: loss = 0.007397997598180843 score = 0.00014285714285714287 | vloss = 1.8295641082314942 vscore = 0.02666135396604472\n",
      "Epoch 7: loss = 0.007726122038132342 score = 0.0006509046052631578 | vloss = 1.6731428600066443 vscore = 0.224479142803395\n",
      "Epoch 8: loss = 0.005260353606864282 score = 0.0011457604895104897 | vloss = 1.3797013662754607 vscore = 0.28463822843641207\n",
      "Epoch 9: loss = 0.006421956638087865 score = 0.0009254464285714286 | vloss = 1.311126543792956 vscore = 0.20651318151941495\n",
      "Epoch 10: loss = 0.004854246555396148 score = 0.0014120535714285713 | vloss = 1.1909698934113524 vscore = 0.4263999671537349\n",
      "Epoch 11: loss = 0.004104563823401888 score = 0.0018930288461538457 | vloss = 1.0316195054987114 vscore = 0.5314202145775617\n",
      "Epoch 12: loss = 0.002918749510745181 score = 0.002911786987522282 | vloss = 0.7438451166687671 vscore = 0.7815321482696617\n",
      "Epoch 13: loss = 0.0013848002058909942 score = 0.0034404772458628843 | vloss = 0.5273494581376309 vscore = 0.8636512605986777\n",
      "Epoch 14: loss = 0.00232865671749172 score = 0.003743474708724069 | vloss = 0.35577106582185336 vscore = 0.8902444504191365\n",
      "Epoch 15: loss = 0.0008697790351962187 score = 0.003757220965309201 | vloss = 0.30767981001403183 vscore = 0.9010993157729349\n",
      "Epoch 16: loss = 0.001740917932194189 score = 0.003507481125600549 | vloss = 0.3148928122912 vscore = 0.9086122344606817\n",
      "Epoch 17: loss = 0.0005324125245026026 score = 0.0037775735294117646 | vloss = 0.3198785061206864 vscore = 0.9047303782160343\n",
      "Epoch 18: loss = 0.0010883103735419759 score = 0.0036942368839427667 | vloss = 0.28706423668366543 vscore = 0.9127608893092379\n",
      "Epoch 19: loss = 0.0006359360011359267 score = 0.0037506003071338828 | vloss = 0.30213301528684133 vscore = 0.9103138570662691\n",
      "Epoch 20: loss = 0.0005702772628616467 score = 0.00381299227700491 | vloss = 0.34538143543375677 vscore = 0.9173498770865427\n",
      "Epoch 21: loss = 0.000574921282780667 score = 0.0038157581453634086 | vloss = 0.3230345341907907 vscore = 0.9198488847563853\n",
      "Epoch 22: loss = 0.000700149471997211 score = 0.0038708791208791208 | vloss = 0.3091381439954053 vscore = 0.9145613522911519\n",
      "Epoch 23: loss = 0.0006869648903208676 score = 0.0036441544566544566 | vloss = 0.3249019990677255 vscore = 0.9182199249838462\n",
      "Epoch 24: loss = 0.00042212819957367017 score = 0.003760923753665689 | vloss = 0.29090837828115773 vscore = 0.9176436535348778\n",
      "Epoch 25: loss = 0.000179727050049941 score = 0.0039388888888888885 | vloss = 0.28810590838569733 vscore = 0.9223996647200998\n",
      "Epoch 26: loss = 0.0006328225670468678 score = 0.003897707336523126 | vloss = 0.2987047451553504 vscore = 0.9195226866853441\n",
      "Epoch 27: loss = 0.00023050874774593376 score = 0.0038829166666666665 | vloss = 0.3287327138709255 vscore = 0.9204170333390116\n",
      "Epoch 28: loss = 6.32259591569522e-05 score = 0.003940127627627628 | vloss = 0.3024767947729325 vscore = 0.9199472396601396\n",
      "Epoch 29: loss = 0.0003326505557166444 score = 0.0037641304347826093 | vloss = 0.27069573325060303 vscore = 0.9214847214249745\n",
      "Epoch 30: loss = 0.00015842892514308623 score = 0.0038793402777777776 | vloss = 0.3024566677933253 vscore = 0.9212252206411572\n",
      "Epoch 31: loss = 0.00022347257082003594 score = 0.003946428571428571 | vloss = 0.3132037531942479 vscore = 0.9218407641822188\n",
      "Epoch 32: loss = 0.00024868878581923694 score = 0.003937289562289562 | vloss = 0.32174998900713375 vscore = 0.924193207606679\n",
      "Epoch 33: loss = 0.0006493947402588748 score = 0.003820925925925926 | vloss = 0.30081600445196727 vscore = 0.9228218899918322\n",
      "Epoch 34: loss = 0.00011762849025945243 score = 0.003938014101057579 | vloss = 0.28457918096991947 vscore = 0.9243994709284111\n",
      "Epoch 35: loss = 0.00024468285688619457 score = 0.003938257575757576 | vloss = 0.3388200111784903 vscore = 0.9223205725734245\n",
      "Epoch 36: loss = 0.00025421831919862306 score = 0.0038826992753623188 | vloss = 0.34611386048108916 vscore = 0.9226476698930858\n",
      "Epoch 37: loss = 0.0002445093817755192 score = 0.003824330487018603 | vloss = 0.3492147570463926 vscore = 0.9237806329327989\n",
      "Epoch 38: loss = 0.0003402611163491358 score = 0.0038762754309738883 | vloss = 0.32562347974978834 vscore = 0.9231994901740033\n",
      "Epoch 39: loss = 0.0001660122240579267 score = 0.003936299519807923 | vloss = 0.35557567028199205 vscore = 0.9248536186871484\n",
      "Epoch 40: loss = 0.000370796940848803 score = 0.0038219770580296894 | vloss = 0.3364828390866622 vscore = 0.9243324617135533\n",
      "Epoch 41: loss = 0.00023306695359998813 score = 0.003938257575757576 | vloss = 0.36838072375711745 vscore = 0.9245266906162162\n",
      "Epoch 42: loss = 0.000523006806309367 score = 0.0037487675142708872 | vloss = 0.31081301089311114 vscore = 0.9221870243428086\n",
      "Epoch 43: loss = 0.00027567162316693 score = 0.003936608734402852 | vloss = 0.37323074463431094 vscore = 0.9213823750067911\n",
      "Epoch 44: loss = 0.00017410918584763961 score = 0.00388852406270439 | vloss = 0.32222595266893356 vscore = 0.9238344026416322\n",
      "Epoch 45: loss = 0.0003258335410059283 score = 0.0038324256074256076 | vloss = 0.3648429958232081 vscore = 0.9233356321549184\n",
      "Epoch 46: loss = 0.0001336097725056463 score = 0.0039348739495798325 | vloss = 0.3414530093861165 vscore = 0.9266737865219679\n",
      "Epoch 47: loss = 0.00026359721388959334 score = 0.003880585106382979 | vloss = 0.3292156886010181 vscore = 0.9282548713412232\n",
      "Epoch 48: loss = 9.781657613798677e-05 score = 0.003938636363636364 | vloss = 0.31874364298779223 vscore = 0.9235292268896848\n",
      "Epoch 49: loss = 0.00024885036913837243 score = 0.003937149859943977 | vloss = 0.3379674051844889 vscore = 0.9249558433812796\n"
     ]
    },
    {
     "data": {
      "image/png": "[encoded data removed]",
      "text/plain": [
       "<Figure size 432x288 with 2 Axes>"
      ]
     },
     "metadata": {
      "needs_background": "light"
     },
     "output_type": "display_data"
    }
   ],
   "source": [
    "train_model(\n",
    "    X_train, y_train,\n",
    "    X_valid, y_valid,\n",
    "    model, optimizer, weighted_f1, loss_fn, None, CFG\n",
    ")"
   ]
  },
  {
   "cell_type": "markdown",
   "id": "d00cbb3d",
   "metadata": {},
   "source": [
    "# Test Model"
   ]
  },
  {
   "cell_type": "code",
   "execution_count": 47,
   "id": "0ce30807",
   "metadata": {},
   "outputs": [],
   "source": [
    "def test_model(X, y, model):\n",
    "    \n",
    "    model.eval()\n",
    "    \n",
    "    test_loader = DataLoader(\n",
    "        TextDataset(X, y),\n",
    "        batch_size=CFG.batch_size, shuffle=False\n",
    "    )\n",
    "    \n",
    "    y_preds = []\n",
    "    with torch.no_grad():\n",
    "        for i, data in enumerate(test_loader):\n",
    "            inputs, labels = data\n",
    "            outputs = model(inputs)\n",
    "            y_preds.append(outputs.argmax(1))\n",
    "            \n",
    "    y_preds = torch.cat(y_preds)\n",
    "    y_tensor = torch.tensor(y)\n",
    "    accuracy = torch.sum(y_preds == y_tensor).item() / len(y)\n",
    "    print(f\"Testing Accuracy: {accuracy:.4f}\")\n",
    "    \n",
    "    print(classification_report(y, y_preds, target_names=label_names))\n",
    "    ConfusionMatrixDisplay.from_predictions(y, y_preds, display_labels=label_names)\n",
    "    \n",
    "    return y_preds"
   ]
  },
  {
   "cell_type": "code",
   "execution_count": 48,
   "id": "527c04e6",
   "metadata": {},
   "outputs": [
    {
     "name": "stdout",
     "output_type": "stream",
     "text": [
      "Testing Accuracy: 0.9285\n",
      "              precision    recall  f1-score   support\n",
      "\n",
      "       anger       0.93      0.93      0.93       275\n",
      "        fear       0.90      0.86      0.88       212\n",
      "         joy       0.95      0.93      0.94       704\n",
      "        love       0.84      0.92      0.88       178\n",
      "     sadness       0.96      0.96      0.96       550\n",
      "    surprise       0.82      0.89      0.85        81\n",
      "\n",
      "    accuracy                           0.93      2000\n",
      "   macro avg       0.90      0.91      0.91      2000\n",
      "weighted avg       0.93      0.93      0.93      2000\n",
      "\n"
     ]
    },
    {
     "data": {
      "image/png": "[encoded data removed]",
      "text/plain": [
       "<Figure size 432x288 with 2 Axes>"
      ]
     },
     "metadata": {
      "needs_background": "light"
     },
     "output_type": "display_data"
    }
   ],
   "source": [
    "vpreds = test_model(X_valid, y_valid, model)"
   ]
  },
  {
   "cell_type": "markdown",
   "id": "fd87b84c",
   "metadata": {},
   "source": [
    "# Testing"
   ]
  },
  {
   "cell_type": "code",
   "execution_count": 68,
   "id": "f818b5d0",
   "metadata": {},
   "outputs": [
    {
     "name": "stdout",
     "output_type": "stream",
     "text": [
      "Sentence  1 :\n",
      "'I am so happy right now!' \n",
      "Predicted Emotion: joy\n",
      "\n",
      "\n",
      "Sentence  2 :\n",
      "'This is outrageous! I demand an explanation!' \n",
      "Predicted Emotion: sadness\n",
      "\n",
      "\n",
      "Sentence  3 :\n",
      "'Spending time with loved ones fills my heart with happiness.' \n",
      "Predicted Emotion: joy\n",
      "\n",
      "\n",
      "Sentence  4 :\n",
      "'Feeling lonely and isolated, I yearn for companionship.' \n",
      "Predicted Emotion: sadness\n",
      "\n",
      "\n",
      "Sentence  5 :\n",
      "'Receiving a gift out of the blue left me pleasantly surprised.' \n",
      "Predicted Emotion: surprise\n",
      "\n",
      "\n"
     ]
    }
   ],
   "source": [
    "# Test on some input sentences\n",
    "input_sentences = [\n",
    "    \"I am so happy right now!\",\n",
    "\"This is outrageous! I demand an explanation!\",\n",
    "\"Spending time with loved ones fills my heart with happiness.\",\n",
    "    \"Feeling lonely and isolated, I yearn for companionship.\",\n",
    "\"Receiving a gift out of the blue left me pleasantly surprised.\"\n",
    "]\n",
    "\n",
    "tokenized_inputs = [clean_lemmatize_tokenize(sentence) for sentence in input_sentences]\n",
    "input_ids = [tokens_to_input_ids(tokens, vocabulary=vocab) for tokens in tokenized_inputs]\n",
    "\n",
    "model.eval()\n",
    "with torch.no_grad():\n",
    "    for i, input_id in enumerate(input_ids):\n",
    "        input_tensor = torch.tensor(input_id).unsqueeze(0)\n",
    "        output = model(input_tensor)\n",
    "        predicted_label = label_names[output.argmax(1).item()]\n",
    "        print(\"Sentence \",i+1,\":\")\n",
    "        print(f\"'{input_sentences[i]}' \")\n",
    "        print(\"Predicted Emotion:\", predicted_label)\n",
    "        print(\"\\n\")"
   ]
  },
  {
   "cell_type": "code",
   "execution_count": null,
   "id": "1adfea87",
   "metadata": {},
   "outputs": [],
   "source": []
  },
  {
   "cell_type": "code",
   "execution_count": null,
   "id": "13c71374",
   "metadata": {},
   "outputs": [],
   "source": []
  }
 ],
 "metadata": {
  "kernelspec": {
   "display_name": "Python 3 (ipykernel)",
   "language": "python",
   "name": "python3"
  },
  "language_info": {
   "codemirror_mode": {
    "name": "ipython",
    "version": 3
   },
   "file_extension": ".py",
   "mimetype": "text/x-python",
   "name": "python",
   "nbconvert_exporter": "python",
   "pygments_lexer": "ipython3",
   "version": "3.9.12"
  }
 },
 "nbformat": 4,
 "nbformat_minor": 5
}
